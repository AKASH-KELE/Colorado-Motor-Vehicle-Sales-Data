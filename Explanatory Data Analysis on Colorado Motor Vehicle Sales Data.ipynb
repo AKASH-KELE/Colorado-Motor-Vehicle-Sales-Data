{
 "cells": [
  {
   "cell_type": "raw",
   "metadata": {
    "vscode": {
     "languageId": "raw"
    }
   },
   "source": [
    "   \"'''\\n\",\n",
    "    \"This Notebook is for doing Expanatory Data Analysis on\\n\",\n",
    "    \"Colorado Motor Vehicle Sales Data\\n\",\n",
    "    \"'''\"\n",
    "   "
   ]
  },
  {
   "cell_type": "markdown",
   "metadata": {},
   "source": [
    "# Importing the Packages"
   ]
  },
  {
   "cell_type": "code",
   "execution_count": null,
   "metadata": {},
   "outputs": [],
   "source": [
    "import pandas as pd\n",
    "import numpy as np\n",
    "import matplotlib.pyplot as plt\n",
    "import seaborn as sns\n",
    "from statsmodels.tsa.seasonal import seasonal_decompose\n",
    "from statsmodels.tsa.arima.model import ARIMA\n",
    "from sklearn.metrics import mean_squared_error"
   ]
  },
  {
   "cell_type": "markdown",
   "metadata": {},
   "source": [
    "# UDFs"
   ]
  },
  {
   "cell_type": "code",
   "execution_count": null,
   "metadata": {},
   "outputs": [],
   "source": [
    "\"def conti_var_summary(x):\\n\",\n",
    "    \"    '''\\n\",\n",
    "    \"    UDF for getting customised summary for continuous variables\\n\",\n",
    "    \"    '''\\n\",\n",
    "    \"    # freq and missings\\n\",\n",
    "    \"    n_total = x.shape[0]\\n\",\n",
    "    \"    n_miss = x.isna().sum()\\n\",\n",
    "    \"    perc_miss = n_miss * 100 / n_total\\n\",\n",
    "    \"\\n\",\n",
    "    \"    # outliers - iqr\\n\",\n",
    "    \"    q1 = x.quantile(0.25)\\n\",\n",
    "    \"    q3 = x.quantile(0.75)\\n\",\n",
    "    \"    iqr = q3 - q1\\n\",\n",
    "    \"    lc_iqr = q1 - 1.5 * iqr\\n\",\n",
    "    \"    uc_iqr = q3 + 1.5 * iqr\\n\",\n",
    "    \"\\n\",\n",
    "    \"    return pd.Series([\\n\",\n",
    "    \"        x.dtype,\\n\",\n",
    "    \"        x.nunique(), n_total,\\n\",\n",
    "    \"        x.count(), n_miss, perc_miss,\\n\",\n",
    "    \"        x.sum(),\\n\",\n",
    "    \"        x.mean(),\\n\",\n",
    "    \"        x.std(),\\n\",\n",
    "    \"        x.var(), lc_iqr, uc_iqr,\\n\",\n",
    "    \"        x.min(),\\n\",\n",
    "    \"        x.quantile(0.01),\\n\",\n",
    "    \"        x.quantile(0.05),\\n\",\n",
    "    \"        x.quantile(0.10),\\n\",\n",
    "    \"        x.quantile(0.25),\\n\",\n",
    "    \"        x.quantile(0.5),\\n\",\n",
    "    \"        x.quantile(0.75),\\n\",\n",
    "    \"        x.quantile(0.90),\\n\",\n",
    "    \"        x.quantile(0.95),\\n\",\n",
    "    \"        x.quantile(0.99),\\n\",\n",
    "    \"        x.max()\\n\",\n",
    "    \"    ],\\n\",\n",
    "    \"        index=[\\n\",\n",
    "    \"        'dtype', 'cardinality', 'n_tot', 'n', 'nmiss',\\n\",\n",
    "    \"        'perc_miss', 'sum', 'mean', 'std', 'var', 'lc_iqr',\\n\",\n",
    "    \"        'uc_iqr', 'min', 'p1', 'p5', 'p10', 'p25', 'p50',\\n\",\n",
    "    \"                         'p75', 'p90', 'p95', 'p99', 'max'\\n\",\n",
    "    \"    ])\""
   ]
  }
 ],
 "metadata": {
  "kernelspec": {
   "display_name": "Python 3",
   "language": "python",
   "name": "python3"
  },
  "language_info": {
   "codemirror_mode": {
    "name": "ipython",
    "version": 3
   },
   "file_extension": ".py",
   "mimetype": "text/x-python",
   "name": "python",
   "nbconvert_exporter": "python",
   "pygments_lexer": "ipython3",
   "version": "3.11.9"
  }
 },
 "nbformat": 4,
 "nbformat_minor": 2
}
