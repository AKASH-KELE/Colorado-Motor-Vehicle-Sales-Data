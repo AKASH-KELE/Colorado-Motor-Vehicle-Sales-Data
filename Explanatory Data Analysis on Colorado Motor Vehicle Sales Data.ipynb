{
 "cells": [
  {
   "cell_type": "raw",
   "metadata": {
    "vscode": {
     "languageId": "raw"
    }
   },
   "source": [
    "   \"'''\\n\",\n",
    "    \"This Notebook is for doing Expanatory Data Analysis on\\n\",\n",
    "    \"Colorado Motor Vehicle Sales Data\\n\",\n",
    "    \"'''\"\n",
    "   "
   ]
  },
  {
   "cell_type": "markdown",
   "metadata": {},
   "source": [
    "# Importing the Packages"
   ]
  }
 ],
 "metadata": {
  "kernelspec": {
   "display_name": "Python 3",
   "language": "python",
   "name": "python3"
  },
  "language_info": {
   "codemirror_mode": {
    "name": "ipython",
    "version": 3
   },
   "file_extension": ".py",
   "mimetype": "text/x-python",
   "name": "python",
   "nbconvert_exporter": "python",
   "pygments_lexer": "ipython3",
   "version": "3.11.9"
  }
 },
 "nbformat": 4,
 "nbformat_minor": 2
}
